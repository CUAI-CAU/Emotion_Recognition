{
 "cells": [
  {
   "cell_type": "code",
   "execution_count": 2,
   "metadata": {
    "colab": {
     "base_uri": "https://localhost:8080/"
    },
    "executionInfo": {
     "elapsed": 27405,
     "status": "ok",
     "timestamp": 1643087253952,
     "user": {
      "displayName": "Shin Jae",
      "photoUrl": "https://lh3.googleusercontent.com/a-/AOh14GgTEZ4LgYKDNDN94ImjOCBPoSpDGcHIdxKI5DJdDA=s64",
      "userId": "14129691516125777831"
     },
     "user_tz": -540
    },
    "id": "ki1LAxOLMIUE",
    "outputId": "bc30e215-1cb0-4a69-b7bc-433f3f19f329"
   },
   "outputs": [
    {
     "name": "stdout",
     "output_type": "stream",
     "text": [
      "Mounted at /content/drive\n"
     ]
    }
   ],
   "source": [
    "from google.colab import drive\n",
    "drive.mount('/content/drive')"
   ]
  },
  {
   "cell_type": "markdown",
   "metadata": {
    "id": "PRdv-2m2My4k"
   },
   "source": [
    "## import"
   ]
  },
  {
   "cell_type": "code",
   "execution_count": null,
   "metadata": {
    "id": "cV8VWpMPMQ8J"
   },
   "outputs": [],
   "source": [
    "!pip install ktrain"
   ]
  },
  {
   "cell_type": "code",
   "execution_count": null,
   "metadata": {
    "id": "9NFAKJfgMaue"
   },
   "outputs": [],
   "source": [
    "import pandas as pd\n",
    "import numpy as np\n",
    "import ktrain\n",
    "from ktrain import text\n",
    "from sklearn.model_selection import train_test_split\n",
    "from sklearn.preprocessing import LabelEncoder"
   ]
  },
  {
   "cell_type": "markdown",
   "metadata": {
    "id": "v5PFMaWmM2a6"
   },
   "source": [
    "### data"
   ]
  },
  {
   "cell_type": "code",
   "execution_count": null,
   "metadata": {
    "id": "VfNHPG03M03H"
   },
   "outputs": [],
   "source": [
    "data = pd.read_feather('/content/drive/MyDrive/CUAI_winter/clip.ftr')"
   ]
  },
  {
   "cell_type": "code",
   "execution_count": null,
   "metadata": {
    "colab": {
     "base_uri": "https://localhost:8080/",
     "height": 206
    },
    "executionInfo": {
     "elapsed": 568,
     "status": "ok",
     "timestamp": 1642940744556,
     "user": {
      "displayName": "유승태",
      "photoUrl": "https://lh3.googleusercontent.com/a/default-user=s64",
      "userId": "01030021726785625805"
     },
     "user_tz": -540
    },
    "id": "Rhj1ce1LNIqw",
    "outputId": "b118aefa-ef1d-48fb-a4b5-96bf69cf3b6a"
   },
   "outputs": [],
   "source": [
    "data.head()"
   ]
  },
  {
   "cell_type": "code",
   "execution_count": null,
   "metadata": {
    "colab": {
     "base_uri": "https://localhost:8080/"
    },
    "executionInfo": {
     "elapsed": 37,
     "status": "ok",
     "timestamp": 1642940744557,
     "user": {
      "displayName": "유승태",
      "photoUrl": "https://lh3.googleusercontent.com/a/default-user=s64",
      "userId": "01030021726785625805"
     },
     "user_tz": -540
    },
    "id": "nw6gjIZbNKBI",
    "outputId": "45f3e51a-015a-49b2-996c-0d4ad4284270"
   },
   "outputs": [],
   "source": [
    "data.shape"
   ]
  },
  {
   "cell_type": "code",
   "execution_count": null,
   "metadata": {
    "colab": {
     "base_uri": "https://localhost:8080/"
    },
    "executionInfo": {
     "elapsed": 34,
     "status": "ok",
     "timestamp": 1642940744557,
     "user": {
      "displayName": "유승태",
      "photoUrl": "https://lh3.googleusercontent.com/a/default-user=s64",
      "userId": "01030021726785625805"
     },
     "user_tz": -540
    },
    "id": "HCdd02YrNLzc",
    "outputId": "7e8c89b0-943e-4190-cdde-3c9750d39414"
   },
   "outputs": [],
   "source": [
    "data.info()"
   ]
  },
  {
   "cell_type": "markdown",
   "metadata": {
    "id": "NKJC87HjNv2f"
   },
   "source": [
    "## 데이터 전처리"
   ]
  },
  {
   "cell_type": "markdown",
   "metadata": {
    "id": "DFIh7c5iOciq"
   },
   "source": [
    "### 중립 감정 제거"
   ]
  },
  {
   "cell_type": "code",
   "execution_count": null,
   "metadata": {
    "colab": {
     "base_uri": "https://localhost:8080/"
    },
    "executionInfo": {
     "elapsed": 32,
     "status": "ok",
     "timestamp": 1642940744557,
     "user": {
      "displayName": "유승태",
      "photoUrl": "https://lh3.googleusercontent.com/a/default-user=s64",
      "userId": "01030021726785625805"
     },
     "user_tz": -540
    },
    "id": "t2UeZT_PNuwA",
    "outputId": "ae7ee5ec-7b31-48d9-8076-4f05be9fd843"
   },
   "outputs": [
    {
     "data": {
      "text/plain": [
       "neutral     19988\n",
       "fear         6849\n",
       "happy        4737\n",
       "sad          4347\n",
       "dislike      3932\n",
       "surprise     3104\n",
       "angry        1746\n",
       "contempt      744\n",
       "Name: emotion, dtype: int64"
      ]
     },
     "execution_count": 8,
     "metadata": {},
     "output_type": "execute_result"
    }
   ],
   "source": [
    "# 감정별 데이터 개수 확인\n",
    "data['emotion'].value_counts()"
   ]
  },
  {
   "cell_type": "code",
   "execution_count": null,
   "metadata": {
    "id": "9IBlJecEN5fS"
   },
   "outputs": [],
   "source": [
    "# 중립 감정 제거\n",
    "data = data[data['emotion'] != 'neutral']"
   ]
  },
  {
   "cell_type": "code",
   "execution_count": null,
   "metadata": {
    "colab": {
     "base_uri": "https://localhost:8080/"
    },
    "executionInfo": {
     "elapsed": 31,
     "status": "ok",
     "timestamp": 1642940744558,
     "user": {
      "displayName": "유승태",
      "photoUrl": "https://lh3.googleusercontent.com/a/default-user=s64",
      "userId": "01030021726785625805"
     },
     "user_tz": -540
    },
    "id": "fRUxhdzXN_5B",
    "outputId": "88b8777e-f75e-44de-8158-f5b7477f1e26"
   },
   "outputs": [
    {
     "data": {
      "text/plain": [
       "fear        6849\n",
       "happy       4737\n",
       "sad         4347\n",
       "dislike     3932\n",
       "surprise    3104\n",
       "angry       1746\n",
       "contempt     744\n",
       "Name: emotion, dtype: int64"
      ]
     },
     "execution_count": 10,
     "metadata": {},
     "output_type": "execute_result"
    }
   ],
   "source": [
    "# 감정별 데이터 개수 확인\n",
    "data['emotion'].value_counts()"
   ]
  },
  {
   "cell_type": "markdown",
   "metadata": {
    "id": "rmDElfNWOi7p"
   },
   "source": [
    "### 감정 라벨 인코딩"
   ]
  },
  {
   "cell_type": "code",
   "execution_count": null,
   "metadata": {
    "colab": {
     "base_uri": "https://localhost:8080/"
    },
    "executionInfo": {
     "elapsed": 30,
     "status": "ok",
     "timestamp": 1642940744559,
     "user": {
      "displayName": "유승태",
      "photoUrl": "https://lh3.googleusercontent.com/a/default-user=s64",
      "userId": "01030021726785625805"
     },
     "user_tz": -540
    },
    "id": "gOGq2Jz6OnCp",
    "outputId": "3a5e5614-8c01-4450-9cee-0ef828bc5d8c"
   },
   "outputs": [],
   "source": [
    "items = data['emotion']\n",
    "encoder = LabelEncoder()\n",
    "encoder.fit(items)\n",
    "labels = encoder.transform(items)\n",
    "data['emotion_ind'] = labels"
   ]
  },
  {
   "cell_type": "code",
   "execution_count": null,
   "metadata": {
    "colab": {
     "base_uri": "https://localhost:8080/"
    },
    "executionInfo": {
     "elapsed": 27,
     "status": "ok",
     "timestamp": 1642940744559,
     "user": {
      "displayName": "유승태",
      "photoUrl": "https://lh3.googleusercontent.com/a/default-user=s64",
      "userId": "01030021726785625805"
     },
     "user_tz": -540
    },
    "id": "zE1IVidkO67U",
    "outputId": "74d80cdb-5d0f-4cfd-e633-fcda774ad495"
   },
   "outputs": [
    {
     "data": {
      "text/plain": [
       "3    6849\n",
       "4    4737\n",
       "5    4347\n",
       "2    3932\n",
       "6    3104\n",
       "0    1746\n",
       "1     744\n",
       "Name: emotion_ind, dtype: int64"
      ]
     },
     "execution_count": 12,
     "metadata": {},
     "output_type": "execute_result"
    }
   ],
   "source": [
    "data['emotion_ind'].value_counts()"
   ]
  },
  {
   "cell_type": "markdown",
   "metadata": {
    "id": "Zzqn8uKkOCNa"
   },
   "source": [
    "### train, test split"
   ]
  },
  {
   "cell_type": "code",
   "execution_count": null,
   "metadata": {
    "id": "hQQNOIhLNOWT"
   },
   "outputs": [],
   "source": [
    "# Train : test = 9 : 1\n",
    "X_train, X_test, y_train, y_test = train_test_split(data.index.values,\n",
    "                                                  data.emotion.values, \n",
    "                                                  test_size=0.1, \n",
    "                                                  random_state=42,\n",
    "                                                  stratify= data.emotion.values)"
   ]
  },
  {
   "cell_type": "code",
   "execution_count": null,
   "metadata": {
    "colab": {
     "base_uri": "https://localhost:8080/"
    },
    "executionInfo": {
     "elapsed": 26,
     "status": "ok",
     "timestamp": 1642940744561,
     "user": {
      "displayName": "유승태",
      "photoUrl": "https://lh3.googleusercontent.com/a/default-user=s64",
      "userId": "01030021726785625805"
     },
     "user_tz": -540
    },
    "id": "y9hVxRaNNerU",
    "outputId": "cbb91f9f-9499-4097-8545-13ab6e3196b1"
   },
   "outputs": [],
   "source": [
    "# data_type == train or test\n",
    "data['data_type'] = ['not_set']*data.shape[0]"
   ]
  },
  {
   "cell_type": "code",
   "execution_count": null,
   "metadata": {
    "colab": {
     "base_uri": "https://localhost:8080/",
     "height": 206
    },
    "executionInfo": {
     "elapsed": 24,
     "status": "ok",
     "timestamp": 1642940744561,
     "user": {
      "displayName": "유승태",
      "photoUrl": "https://lh3.googleusercontent.com/a/default-user=s64",
      "userId": "01030021726785625805"
     },
     "user_tz": -540
    },
    "id": "M23lfPnRNgt2",
    "outputId": "470186f8-a98e-438c-9917-0db3b9e3f189"
   },
   "outputs": [],
   "source": [
    "data.head()"
   ]
  },
  {
   "cell_type": "code",
   "execution_count": null,
   "metadata": {
    "colab": {
     "base_uri": "https://localhost:8080/"
    },
    "executionInfo": {
     "elapsed": 24,
     "status": "ok",
     "timestamp": 1642940744562,
     "user": {
      "displayName": "유승태",
      "photoUrl": "https://lh3.googleusercontent.com/a/default-user=s64",
      "userId": "01030021726785625805"
     },
     "user_tz": -540
    },
    "id": "GHXhVq5mNh7_",
    "outputId": "e5195c2f-f7c2-4d0f-d963-b3b650497d65"
   },
   "outputs": [],
   "source": [
    "data.loc[X_train, 'data_type'] = 'train'\n",
    "data.loc[X_test, 'data_type'] = 'test'"
   ]
  },
  {
   "cell_type": "code",
   "execution_count": null,
   "metadata": {
    "colab": {
     "base_uri": "https://localhost:8080/",
     "height": 520
    },
    "executionInfo": {
     "elapsed": 22,
     "status": "ok",
     "timestamp": 1642940744562,
     "user": {
      "displayName": "유승태",
      "photoUrl": "https://lh3.googleusercontent.com/a/default-user=s64",
      "userId": "01030021726785625805"
     },
     "user_tz": -540
    },
    "id": "AJbGdT1tNjx_",
    "outputId": "fe438823-047f-45f8-8c93-464dc550bf29"
   },
   "outputs": [
    {
     "data": {
      "text/html": [
       "\n",
       "  <div id=\"df-81e9c8e4-c2c5-41b4-952c-8424c6db2f1f\">\n",
       "    <div class=\"colab-df-container\">\n",
       "      <div>\n",
       "<style scoped>\n",
       "    .dataframe tbody tr th:only-of-type {\n",
       "        vertical-align: middle;\n",
       "    }\n",
       "\n",
       "    .dataframe tbody tr th {\n",
       "        vertical-align: top;\n",
       "    }\n",
       "\n",
       "    .dataframe thead th {\n",
       "        text-align: right;\n",
       "    }\n",
       "</style>\n",
       "<table border=\"1\" class=\"dataframe\">\n",
       "  <thead>\n",
       "    <tr style=\"text-align: right;\">\n",
       "      <th></th>\n",
       "      <th></th>\n",
       "      <th>script</th>\n",
       "      <th>emotion_ind</th>\n",
       "    </tr>\n",
       "    <tr>\n",
       "      <th>emotion</th>\n",
       "      <th>data_type</th>\n",
       "      <th></th>\n",
       "      <th></th>\n",
       "    </tr>\n",
       "  </thead>\n",
       "  <tbody>\n",
       "    <tr>\n",
       "      <th rowspan=\"2\" valign=\"top\">angry</th>\n",
       "      <th>test</th>\n",
       "      <td>175</td>\n",
       "      <td>175</td>\n",
       "    </tr>\n",
       "    <tr>\n",
       "      <th>train</th>\n",
       "      <td>1571</td>\n",
       "      <td>1571</td>\n",
       "    </tr>\n",
       "    <tr>\n",
       "      <th rowspan=\"2\" valign=\"top\">contempt</th>\n",
       "      <th>test</th>\n",
       "      <td>74</td>\n",
       "      <td>74</td>\n",
       "    </tr>\n",
       "    <tr>\n",
       "      <th>train</th>\n",
       "      <td>670</td>\n",
       "      <td>670</td>\n",
       "    </tr>\n",
       "    <tr>\n",
       "      <th rowspan=\"2\" valign=\"top\">dislike</th>\n",
       "      <th>test</th>\n",
       "      <td>393</td>\n",
       "      <td>393</td>\n",
       "    </tr>\n",
       "    <tr>\n",
       "      <th>train</th>\n",
       "      <td>3539</td>\n",
       "      <td>3539</td>\n",
       "    </tr>\n",
       "    <tr>\n",
       "      <th rowspan=\"2\" valign=\"top\">fear</th>\n",
       "      <th>test</th>\n",
       "      <td>685</td>\n",
       "      <td>685</td>\n",
       "    </tr>\n",
       "    <tr>\n",
       "      <th>train</th>\n",
       "      <td>6164</td>\n",
       "      <td>6164</td>\n",
       "    </tr>\n",
       "    <tr>\n",
       "      <th rowspan=\"2\" valign=\"top\">happy</th>\n",
       "      <th>test</th>\n",
       "      <td>474</td>\n",
       "      <td>474</td>\n",
       "    </tr>\n",
       "    <tr>\n",
       "      <th>train</th>\n",
       "      <td>4263</td>\n",
       "      <td>4263</td>\n",
       "    </tr>\n",
       "    <tr>\n",
       "      <th rowspan=\"2\" valign=\"top\">sad</th>\n",
       "      <th>test</th>\n",
       "      <td>435</td>\n",
       "      <td>435</td>\n",
       "    </tr>\n",
       "    <tr>\n",
       "      <th>train</th>\n",
       "      <td>3912</td>\n",
       "      <td>3912</td>\n",
       "    </tr>\n",
       "    <tr>\n",
       "      <th rowspan=\"2\" valign=\"top\">surprise</th>\n",
       "      <th>test</th>\n",
       "      <td>310</td>\n",
       "      <td>310</td>\n",
       "    </tr>\n",
       "    <tr>\n",
       "      <th>train</th>\n",
       "      <td>2794</td>\n",
       "      <td>2794</td>\n",
       "    </tr>\n",
       "  </tbody>\n",
       "</table>\n",
       "</div>\n",
       "      <button class=\"colab-df-convert\" onclick=\"convertToInteractive('df-81e9c8e4-c2c5-41b4-952c-8424c6db2f1f')\"\n",
       "              title=\"Convert this dataframe to an interactive table.\"\n",
       "              style=\"display:none;\">\n",
       "        \n",
       "  <svg xmlns=\"http://www.w3.org/2000/svg\" height=\"24px\"viewBox=\"0 0 24 24\"\n",
       "       width=\"24px\">\n",
       "    <path d=\"M0 0h24v24H0V0z\" fill=\"none\"/>\n",
       "    <path d=\"M18.56 5.44l.94 2.06.94-2.06 2.06-.94-2.06-.94-.94-2.06-.94 2.06-2.06.94zm-11 1L8.5 8.5l.94-2.06 2.06-.94-2.06-.94L8.5 2.5l-.94 2.06-2.06.94zm10 10l.94 2.06.94-2.06 2.06-.94-2.06-.94-.94-2.06-.94 2.06-2.06.94z\"/><path d=\"M17.41 7.96l-1.37-1.37c-.4-.4-.92-.59-1.43-.59-.52 0-1.04.2-1.43.59L10.3 9.45l-7.72 7.72c-.78.78-.78 2.05 0 2.83L4 21.41c.39.39.9.59 1.41.59.51 0 1.02-.2 1.41-.59l7.78-7.78 2.81-2.81c.8-.78.8-2.07 0-2.86zM5.41 20L4 18.59l7.72-7.72 1.47 1.35L5.41 20z\"/>\n",
       "  </svg>\n",
       "      </button>\n",
       "      \n",
       "  <style>\n",
       "    .colab-df-container {\n",
       "      display:flex;\n",
       "      flex-wrap:wrap;\n",
       "      gap: 12px;\n",
       "    }\n",
       "\n",
       "    .colab-df-convert {\n",
       "      background-color: #E8F0FE;\n",
       "      border: none;\n",
       "      border-radius: 50%;\n",
       "      cursor: pointer;\n",
       "      display: none;\n",
       "      fill: #1967D2;\n",
       "      height: 32px;\n",
       "      padding: 0 0 0 0;\n",
       "      width: 32px;\n",
       "    }\n",
       "\n",
       "    .colab-df-convert:hover {\n",
       "      background-color: #E2EBFA;\n",
       "      box-shadow: 0px 1px 2px rgba(60, 64, 67, 0.3), 0px 1px 3px 1px rgba(60, 64, 67, 0.15);\n",
       "      fill: #174EA6;\n",
       "    }\n",
       "\n",
       "    [theme=dark] .colab-df-convert {\n",
       "      background-color: #3B4455;\n",
       "      fill: #D2E3FC;\n",
       "    }\n",
       "\n",
       "    [theme=dark] .colab-df-convert:hover {\n",
       "      background-color: #434B5C;\n",
       "      box-shadow: 0px 1px 3px 1px rgba(0, 0, 0, 0.15);\n",
       "      filter: drop-shadow(0px 1px 2px rgba(0, 0, 0, 0.3));\n",
       "      fill: #FFFFFF;\n",
       "    }\n",
       "  </style>\n",
       "\n",
       "      <script>\n",
       "        const buttonEl =\n",
       "          document.querySelector('#df-81e9c8e4-c2c5-41b4-952c-8424c6db2f1f button.colab-df-convert');\n",
       "        buttonEl.style.display =\n",
       "          google.colab.kernel.accessAllowed ? 'block' : 'none';\n",
       "\n",
       "        async function convertToInteractive(key) {\n",
       "          const element = document.querySelector('#df-81e9c8e4-c2c5-41b4-952c-8424c6db2f1f');\n",
       "          const dataTable =\n",
       "            await google.colab.kernel.invokeFunction('convertToInteractive',\n",
       "                                                     [key], {});\n",
       "          if (!dataTable) return;\n",
       "\n",
       "          const docLinkHtml = 'Like what you see? Visit the ' +\n",
       "            '<a target=\"_blank\" href=https://colab.research.google.com/notebooks/data_table.ipynb>data table notebook</a>'\n",
       "            + ' to learn more about interactive tables.';\n",
       "          element.innerHTML = '';\n",
       "          dataTable['output_type'] = 'display_data';\n",
       "          await google.colab.output.renderOutput(dataTable, element);\n",
       "          const docLink = document.createElement('div');\n",
       "          docLink.innerHTML = docLinkHtml;\n",
       "          element.appendChild(docLink);\n",
       "        }\n",
       "      </script>\n",
       "    </div>\n",
       "  </div>\n",
       "  "
      ],
      "text/plain": [
       "                    script  emotion_ind\n",
       "emotion  data_type                     \n",
       "angry    test          175          175\n",
       "         train        1571         1571\n",
       "contempt test           74           74\n",
       "         train         670          670\n",
       "dislike  test          393          393\n",
       "         train        3539         3539\n",
       "fear     test          685          685\n",
       "         train        6164         6164\n",
       "happy    test          474          474\n",
       "         train        4263         4263\n",
       "sad      test          435          435\n",
       "         train        3912         3912\n",
       "surprise test          310          310\n",
       "         train        2794         2794"
      ]
     },
     "execution_count": 17,
     "metadata": {},
     "output_type": "execute_result"
    }
   ],
   "source": [
    "# 감정 별 train, test 데이터 개수\n",
    "\n",
    "data.groupby(['emotion', 'data_type']).count()"
   ]
  },
  {
   "cell_type": "code",
   "execution_count": null,
   "metadata": {
    "id": "qIh6nrSFNpA0"
   },
   "outputs": [],
   "source": [
    "# train, test split\n",
    "\n",
    "df_train = data[data['data_type'] == 'train']\n",
    "df_test = data[data['data_type'] == 'test']"
   ]
  },
  {
   "cell_type": "code",
   "execution_count": null,
   "metadata": {
    "colab": {
     "base_uri": "https://localhost:8080/"
    },
    "executionInfo": {
     "elapsed": 21,
     "status": "ok",
     "timestamp": 1642940744563,
     "user": {
      "displayName": "유승태",
      "photoUrl": "https://lh3.googleusercontent.com/a/default-user=s64",
      "userId": "01030021726785625805"
     },
     "user_tz": -540
    },
    "id": "g2J17VRtOPJL",
    "outputId": "47fe83c5-18ca-4136-aa67-3cc5d0d46a64"
   },
   "outputs": [],
   "source": [
    "df_train.shape"
   ]
  },
  {
   "cell_type": "code",
   "execution_count": null,
   "metadata": {
    "colab": {
     "base_uri": "https://localhost:8080/"
    },
    "executionInfo": {
     "elapsed": 19,
     "status": "ok",
     "timestamp": 1642940744563,
     "user": {
      "displayName": "유승태",
      "photoUrl": "https://lh3.googleusercontent.com/a/default-user=s64",
      "userId": "01030021726785625805"
     },
     "user_tz": -540
    },
    "id": "qY7h5B8cOQV-",
    "outputId": "d7f5604e-c2bc-4e91-8e0c-3af3d46dec35"
   },
   "outputs": [],
   "source": [
    "df_test.shape"
   ]
  },
  {
   "cell_type": "code",
   "execution_count": null,
   "metadata": {
    "id": "RC38Hb7MORtO"
   },
   "outputs": [],
   "source": [
    "X_train = df_train['script'].tolist()\n",
    "X_test = df_test['script'].tolist()\n",
    "y_train = df_train['emotion_ind'].tolist()\n",
    "y_test = df_test['emotion_ind'].tolist()"
   ]
  },
  {
   "cell_type": "code",
   "execution_count": null,
   "metadata": {
    "colab": {
     "base_uri": "https://localhost:8080/"
    },
    "executionInfo": {
     "elapsed": 18,
     "status": "ok",
     "timestamp": 1642940744564,
     "user": {
      "displayName": "유승태",
      "photoUrl": "https://lh3.googleusercontent.com/a/default-user=s64",
      "userId": "01030021726785625805"
     },
     "user_tz": -540
    },
    "id": "pYPC71PKPObQ",
    "outputId": "2da12046-5d59-4ec3-c062-96b6866dd6e7"
   },
   "outputs": [],
   "source": [
    "# Checking size of our train and test datasets\n",
    "print(len(X_train),len(X_test),len(y_train),len(y_test))"
   ]
  },
  {
   "cell_type": "code",
   "execution_count": null,
   "metadata": {
    "colab": {
     "base_uri": "https://localhost:8080/"
    },
    "executionInfo": {
     "elapsed": 17,
     "status": "ok",
     "timestamp": 1642940744565,
     "user": {
      "displayName": "유승태",
      "photoUrl": "https://lh3.googleusercontent.com/a/default-user=s64",
      "userId": "01030021726785625805"
     },
     "user_tz": -540
    },
    "id": "1PW97dGJPTnQ",
    "outputId": "031db1b2-dbd7-4dfb-dd97-8d271df08265"
   },
   "outputs": [
    {
     "data": {
      "text/plain": [
       "['fear', 'angry', 'contempt', 'sad', 'surprise', 'dislike', 'happy']"
      ]
     },
     "execution_count": 23,
     "metadata": {},
     "output_type": "execute_result"
    }
   ],
   "source": [
    "factors = list(data.emotion.unique())\n",
    "factors"
   ]
  },
  {
   "cell_type": "markdown",
   "metadata": {
    "id": "MXtZ-65RPs1r"
   },
   "source": [
    "## Building Model using Transformer"
   ]
  },
  {
   "cell_type": "code",
   "execution_count": null,
   "metadata": {
    "id": "HfCXBonPPeXX"
   },
   "outputs": [],
   "source": [
    "model_arch = 'albert-large-v2'\n",
    "# model_arch ='bert-base-uncased'\n",
    "MAXLEN = 64\n",
    "trans = text.Transformer(model_arch, maxlen = MAXLEN, class_names= factors)"
   ]
  },
  {
   "cell_type": "code",
   "execution_count": null,
   "metadata": {
    "colab": {
     "base_uri": "https://localhost:8080/",
     "height": 243
    },
    "executionInfo": {
     "elapsed": 8364,
     "status": "ok",
     "timestamp": 1642943322101,
     "user": {
      "displayName": "유승태",
      "photoUrl": "https://lh3.googleusercontent.com/a/default-user=s64",
      "userId": "01030021726785625805"
     },
     "user_tz": -540
    },
    "id": "QmFdvjwZTcej",
    "outputId": "25302557-2bfa-4105-c3f8-dce8e1942d57"
   },
   "outputs": [
    {
     "name": "stdout",
     "output_type": "stream",
     "text": [
      "preprocessing train...\n",
      "language: ko\n",
      "train sequence lengths:\n",
      "\tmean : 8\n",
      "\t95percentile : 17\n",
      "\t99percentile : 25\n"
     ]
    },
    {
     "data": {
      "text/html": [],
      "text/plain": [
       "<IPython.core.display.HTML object>"
      ]
     },
     "metadata": {},
     "output_type": "display_data"
    },
    {
     "name": "stdout",
     "output_type": "stream",
     "text": [
      "Is Multi-Label? False\n",
      "preprocessing test...\n",
      "language: ko\n",
      "test sequence lengths:\n",
      "\tmean : 8\n",
      "\t95percentile : 17\n",
      "\t99percentile : 25\n"
     ]
    },
    {
     "data": {
      "text/html": [],
      "text/plain": [
       "<IPython.core.display.HTML object>"
      ]
     },
     "metadata": {},
     "output_type": "display_data"
    }
   ],
   "source": [
    "train_data = trans.preprocess_train(X_train, y_train)\n",
    "test_data = trans.preprocess_test(X_test, y_test)"
   ]
  },
  {
   "cell_type": "code",
   "execution_count": null,
   "metadata": {
    "id": "u1KwnViVTfx7"
   },
   "outputs": [],
   "source": [
    "model = trans.get_classifier()"
   ]
  },
  {
   "cell_type": "code",
   "execution_count": null,
   "metadata": {
    "id": "-KXTSGa6TotK"
   },
   "outputs": [],
   "source": [
    "learner = ktrain.get_learner(model, train_data=train_data, val_data=test_data, batch_size=64)"
   ]
  },
  {
   "cell_type": "code",
   "execution_count": null,
   "metadata": {
    "colab": {
     "base_uri": "https://localhost:8080/",
     "height": 509
    },
    "executionInfo": {
     "elapsed": 1634297,
     "status": "ok",
     "timestamp": 1642933927964,
     "user": {
      "displayName": "유승태",
      "photoUrl": "https://lh3.googleusercontent.com/a/default-user=s64",
      "userId": "01030021726785625805"
     },
     "user_tz": -540
    },
    "id": "ElyBIbsPTxwt",
    "outputId": "7a6dceac-3fe1-4b3c-9c84-fa4a5bad902e"
   },
   "outputs": [
    {
     "name": "stdout",
     "output_type": "stream",
     "text": [
      "simulating training for different learning rates... this may take a few moments...\n",
      "Epoch 1/5\n",
      "358/358 [==============================] - 516s 1s/step - loss: 1.8038 - accuracy: 0.2608\n",
      "Epoch 2/5\n",
      "358/358 [==============================] - 492s 1s/step - loss: 1.7123 - accuracy: 0.3068\n",
      "Epoch 3/5\n",
      "358/358 [==============================] - 492s 1s/step - loss: 1.9679 - accuracy: 0.2211\n",
      "Epoch 4/5\n",
      "358/358 [==============================] - 132s 367ms/step - loss: 9.1532 - accuracy: 0.1737\n",
      "\n",
      "\n",
      "done.\n",
      "Visually inspect loss plot and select learning rate associated with falling loss\n"
     ]
    },
    {
     "data": {
      "image/png": "[encoded data removed]",
      "text/plain": [
       "<Figure size 432x288 with 1 Axes>"
      ]
     },
     "metadata": {
      "needs_background": "light"
     },
     "output_type": "display_data"
    }
   ],
   "source": [
    "learner.lr_find(show_plot=True, max_epochs=5)"
   ]
  },
  {
   "cell_type": "code",
   "execution_count": null,
   "metadata": {
    "colab": {
     "base_uri": "https://localhost:8080/"
    },
    "executionInfo": {
     "elapsed": 1092451,
     "status": "ok",
     "timestamp": 1642944415831,
     "user": {
      "displayName": "유승태",
      "photoUrl": "https://lh3.googleusercontent.com/a/default-user=s64",
      "userId": "01030021726785625805"
     },
     "user_tz": -540
    },
    "id": "YQOCX2ObT0wx",
    "outputId": "e16ad33e-5a72-43ff-880f-c971a9727a03"
   },
   "outputs": [
    {
     "name": "stdout",
     "output_type": "stream",
     "text": [
      "\n",
      "\n",
      "begin training using onecycle policy with max lr of 2e-05...\n",
      "Epoch 1/2\n",
      "359/359 [==============================] - 564s 1s/step - loss: 1.6922 - accuracy: 0.3179 - val_loss: 1.6808 - val_accuracy: 0.3142\n",
      "Epoch 2/2\n",
      "359/359 [==============================] - 528s 1s/step - loss: 1.6308 - accuracy: 0.3464 - val_loss: 1.6221 - val_accuracy: 0.3606\n"
     ]
    },
    {
     "data": {
      "text/plain": [
       "<keras.callbacks.History at 0x7fd5e56eaf90>"
      ]
     },
     "execution_count": 33,
     "metadata": {},
     "output_type": "execute_result"
    }
   ],
   "source": [
    "learner.fit_onecycle(lr = 2e-5, epochs = 2, checkpoint_folder='/content/drive/MyDrive/CUAI_winter/ktrain_learner/')"
   ]
  },
  {
   "cell_type": "code",
   "execution_count": null,
   "metadata": {
    "id": "R_ICtgNh0Ah6"
   },
   "outputs": [],
   "source": [
    "# # save model\n",
    "learner.save_model('/content/drive/MyDrive/CUAI_winter/ktrain_model')"
   ]
  },
  {
   "cell_type": "markdown",
   "metadata": {
    "id": "5BGOvNHTzodc"
   },
   "source": [
    "### Confusion matrix"
   ]
  },
  {
   "cell_type": "code",
   "execution_count": null,
   "metadata": {
    "colab": {
     "base_uri": "https://localhost:8080/"
    },
    "executionInfo": {
     "elapsed": 31362,
     "status": "ok",
     "timestamp": 1642944447602,
     "user": {
      "displayName": "유승태",
      "photoUrl": "https://lh3.googleusercontent.com/a/default-user=s64",
      "userId": "01030021726785625805"
     },
     "user_tz": -540
    },
    "id": "22R6WCuUhFYs",
    "outputId": "451dd4dd-1b85-47e3-d9a0-e8847f6b36aa"
   },
   "outputs": [
    {
     "name": "stdout",
     "output_type": "stream",
     "text": [
      "              precision    recall  f1-score   support\n",
      "\n",
      "        fear       0.37      0.13      0.19       175\n",
      "       angry       0.00      0.00      0.00        74\n",
      "    contempt       0.31      0.03      0.05       393\n",
      "         sad       0.42      0.56      0.48       685\n",
      "    surprise       0.29      0.65      0.40       474\n",
      "     dislike       0.37      0.29      0.32       435\n",
      "       happy       0.58      0.23      0.33       310\n",
      "\n",
      "    accuracy                           0.36      2546\n",
      "   macro avg       0.33      0.27      0.25      2546\n",
      "weighted avg       0.37      0.36      0.32      2546\n",
      "\n"
     ]
    },
    {
     "name": "stderr",
     "output_type": "stream",
     "text": [
      "/usr/local/lib/python3.7/dist-packages/sklearn/metrics/_classification.py:1221: UndefinedMetricWarning: Precision and F-score are ill-defined and being set to 0.0 in labels with no predicted samples. Use `zero_division` parameter to control this behavior.\n",
      "  _warn_prf(average, modifier, msg_start, len(result))\n"
     ]
    },
    {
     "data": {
      "text/plain": [
       "array([[ 22,   0,   4,  45,  81,  16,   7],\n",
       "       [  5,   0,   3,  23,  37,   6,   0],\n",
       "       [ 14,   0,  11, 101, 226,  35,   6],\n",
       "       [  5,   0,   5, 382, 172,  86,  35],\n",
       "       [  8,   0,  10,  95, 307,  51,   3],\n",
       "       [  3,   0,   1, 121, 184, 125,   1],\n",
       "       [  3,   0,   1, 152,  62,  21,  71]])"
      ]
     },
     "execution_count": 35,
     "metadata": {},
     "output_type": "execute_result"
    }
   ],
   "source": [
    "learner.validate(val_data=test_data, class_names=factors)"
   ]
  },
  {
   "cell_type": "markdown",
   "metadata": {
    "id": "OZSI0NwFztG8"
   },
   "source": [
    "### loss top 10 data"
   ]
  },
  {
   "cell_type": "code",
   "execution_count": null,
   "metadata": {
    "colab": {
     "base_uri": "https://localhost:8080/"
    },
    "executionInfo": {
     "elapsed": 25064,
     "status": "ok",
     "timestamp": 1642944472659,
     "user": {
      "displayName": "유승태",
      "photoUrl": "https://lh3.googleusercontent.com/a/default-user=s64",
      "userId": "01030021726785625805"
     },
     "user_tz": -540
    },
    "id": "uXbo14KxzrBr",
    "outputId": "baf56d47-eeb6-49b9-cd3a-896b082f6637"
   },
   "outputs": [
    {
     "name": "stdout",
     "output_type": "stream",
     "text": [
      "----------\n",
      "id:1828 | loss:4.63 | true:angry | pred:dislike)\n",
      "\n",
      "----------\n",
      "id:913 | loss:4.63 | true:angry | pred:dislike)\n",
      "\n",
      "----------\n",
      "id:1786 | loss:4.39 | true:angry | pred:sad)\n",
      "\n",
      "----------\n",
      "id:2385 | loss:4.39 | true:angry | pred:sad)\n",
      "\n",
      "----------\n",
      "id:1790 | loss:4.15 | true:angry | pred:sad)\n",
      "\n",
      "----------\n",
      "id:2329 | loss:4.1 | true:angry | pred:dislike)\n",
      "\n",
      "----------\n",
      "id:2312 | loss:4.09 | true:angry | pred:dislike)\n",
      "\n",
      "----------\n",
      "id:1619 | loss:4.05 | true:angry | pred:dislike)\n",
      "\n",
      "----------\n",
      "id:1612 | loss:3.96 | true:angry | pred:sad)\n",
      "\n",
      "----------\n",
      "id:860 | loss:3.95 | true:angry | pred:sad)\n",
      "\n"
     ]
    }
   ],
   "source": [
    "learner.view_top_losses(n=10, preproc=trans, val_data=test_data)"
   ]
  },
  {
   "cell_type": "code",
   "execution_count": null,
   "metadata": {
    "colab": {
     "base_uri": "https://localhost:8080/"
    },
    "executionInfo": {
     "elapsed": 281,
     "status": "ok",
     "timestamp": 1642944984504,
     "user": {
      "displayName": "유승태",
      "photoUrl": "https://lh3.googleusercontent.com/a/default-user=s64",
      "userId": "01030021726785625805"
     },
     "user_tz": -540
    },
    "id": "4ORkjqLOzwh0",
    "outputId": "f24373dc-44bb-46e8-ad3c-43d118b18113"
   },
   "outputs": [],
   "source": [
    "top_loss_10 = [1828, 913, 1786, 2385, 1790, 2329, 2312, 1619, 1612, 860]\n",
    "for ind in top_loss_10:\n",
    "   print(X_test[ind])"
   ]
  },
  {
   "cell_type": "markdown",
   "metadata": {
    "id": "5ZdE1Whwzz44"
   },
   "source": [
    "### Predictor 저장"
   ]
  },
  {
   "cell_type": "code",
   "execution_count": null,
   "metadata": {
    "id": "KlLyCsQfz1nk"
   },
   "outputs": [],
   "source": [
    "predictor = ktrain.get_predictor(learner.model, preproc=trans)"
   ]
  },
  {
   "cell_type": "code",
   "execution_count": null,
   "metadata": {
    "id": "vXoFWCdb0C9T"
   },
   "outputs": [],
   "source": [
    "predictor.save('/content/drive/MyDrive/CUAI_winter/ktrain_predictor/')"
   ]
  },
  {
   "cell_type": "code",
   "execution_count": null,
   "metadata": {
    "id": "gG21qiOUKEso"
   },
   "outputs": [],
   "source": []
  }
 ],
 "metadata": {
  "accelerator": "GPU",
  "colab": {
   "machine_shape": "hm",
   "name": "ktrain_sentiment_multiclassification .ipynb",
   "provenance": []
  },
  "kernelspec": {
   "display_name": "Python 3",
   "language": "python",
   "name": "python3"
  },
  "language_info": {
   "codemirror_mode": {
    "name": "ipython",
    "version": 3
   },
   "file_extension": ".py",
   "mimetype": "text/x-python",
   "name": "python",
   "nbconvert_exporter": "python",
   "pygments_lexer": "ipython3",
   "version": "3.8.5"
  }
 },
 "nbformat": 4,
 "nbformat_minor": 1
}
