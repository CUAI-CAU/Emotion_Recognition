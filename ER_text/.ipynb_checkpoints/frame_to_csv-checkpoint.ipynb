{
 "cells": [
  {
   "cell_type": "code",
   "execution_count": 1,
   "metadata": {
    "colab": {
     "base_uri": "https://localhost:8080/"
    },
    "executionInfo": {
     "elapsed": 23099,
     "status": "ok",
     "timestamp": 1642922729461,
     "user": {
      "displayName": "유승태",
      "photoUrl": "https://lh3.googleusercontent.com/a/default-user=s64",
      "userId": "01030021726785625805"
     },
     "user_tz": -540
    },
    "id": "Kg0DT9V1j1CX",
    "outputId": "48da596a-03e0-4c93-9ddc-c78508c3f7b0"
   },
   "outputs": [
    {
     "name": "stdout",
     "output_type": "stream",
     "text": [
      "Mounted at /content/drive\n"
     ]
    }
   ],
   "source": [
    "from google.colab import drive\n",
    "drive.mount('/content/drive')"
   ]
  },
  {
   "cell_type": "code",
   "execution_count": 9,
   "metadata": {
    "executionInfo": {
     "elapsed": 812,
     "status": "ok",
     "timestamp": 1642923944280,
     "user": {
      "displayName": "유승태",
      "photoUrl": "https://lh3.googleusercontent.com/a/default-user=s64",
      "userId": "01030021726785625805"
     },
     "user_tz": -540
    },
    "id": "cPTNQya2j77k"
   },
   "outputs": [],
   "source": [
    "import glob\n",
    "import json\n",
    "import os\n",
    "from tqdm.notebook import tqdm\n",
    "import csv\n",
    "\n",
    "import pandas as pd"
   ]
  },
  {
   "cell_type": "markdown",
   "metadata": {
    "id": "LPWkJQ00pI--"
   },
   "source": [
    "### 한글 깨짐 해결"
   ]
  },
  {
   "cell_type": "code",
   "execution_count": 3,
   "metadata": {
    "executionInfo": {
     "elapsed": 4,
     "status": "ok",
     "timestamp": 1642922729462,
     "user": {
      "displayName": "유승태",
      "photoUrl": "https://lh3.googleusercontent.com/a/default-user=s64",
      "userId": "01030021726785625805"
     },
     "user_tz": -540
    },
    "id": "6bMPPeGjj_EZ"
   },
   "outputs": [],
   "source": [
    "IN_PATH = '/content/drive/MyDrive/CUAI_winter/frame_data/'\n",
    "OUT_PATH = '/content/drive/MyDrive/CUAI_winter/frame_csv/'"
   ]
  },
  {
   "cell_type": "code",
   "execution_count": 4,
   "metadata": {
    "executionInfo": {
     "elapsed": 1602,
     "status": "ok",
     "timestamp": 1642922731061,
     "user": {
      "displayName": "유승태",
      "photoUrl": "https://lh3.googleusercontent.com/a/default-user=s64",
      "userId": "01030021726785625805"
     },
     "user_tz": -540
    },
    "id": "CzPK3-BTyjKg"
   },
   "outputs": [],
   "source": [
    "if not os.path.exists(OUT_PATH):\n",
    "    os.makedirs(OUT_PATH)"
   ]
  },
  {
   "cell_type": "code",
   "execution_count": 5,
   "metadata": {
    "colab": {
     "base_uri": "https://localhost:8080/",
     "height": 48,
     "referenced_widgets": [
      "c4de19fc9cef40db83374d3cc32ed242",
      "e660da27baa54c319d1fa66f6a5eb153",
      "77e217e2af5a4acc9ff13dd880e4248e",
      "291c1bb4bb1f49ab9e093e8d20ac857f",
      "4ac8801aa3334428ac4b3c15538d7fce",
      "47b66c56ed504c90a8a5bfe3804356a7",
      "194d66f91f3849bd80e6a1ea24b101cf",
      "65bf97176d004fcf8c8f65db81c89e4a",
      "97e4c92cf9324067a9e8716638a9f462",
      "2ffbc8d4b04f46f79936fe52d26687d5",
      "5503b674039c4070911bf6eeb780b5ce"
     ]
    },
    "executionInfo": {
     "elapsed": 760158,
     "status": "ok",
     "timestamp": 1642923491217,
     "user": {
      "displayName": "유승태",
      "photoUrl": "https://lh3.googleusercontent.com/a/default-user=s64",
      "userId": "01030021726785625805"
     },
     "user_tz": -540
    },
    "id": "S8z9d_R_kUnT",
    "outputId": "eda212ca-fe22-4b62-932b-dc6cfe22cda5"
   },
   "outputs": [
    {
     "data": {
      "application/vnd.jupyter.widget-view+json": {
       "model_id": "c4de19fc9cef40db83374d3cc32ed242",
       "version_major": 2,
       "version_minor": 0
      },
      "text/plain": [
       "  0%|          | 0/3199 [00:00<?, ?it/s]"
      ]
     },
     "metadata": {},
     "output_type": "display_data"
    }
   ],
   "source": [
    "json_list = sorted(glob.glob(IN_PATH+'*.json'))\n",
    "\n",
    "for json_name in tqdm(json_list): # json 순회\n",
    "    with open(json_name, \"r\") as f:\n",
    "        try:\n",
    "            json_file = json.load(f, encoding=\"utf-8\")\n",
    "        except:\n",
    "            print(\"Response content is not valid JSON\")\n",
    "            continue\n",
    "\n",
    "    csv_name = json_name.split('/')[-1].replace('json', 'csv')\n",
    "    \n",
    "\n",
    "    frame_list = list(json_file.keys())\n",
    "    \n",
    "    csv_data = []\n",
    "\n",
    "    for frame in frame_list:\n",
    "        frame_data_keys = list(json_file[frame].keys())\n",
    "        for key in frame_data_keys:\n",
    "            frame_data = json_file[frame][key]\n",
    "            \n",
    "            if frame_data.get('text'):\n",
    "                csv_data.append([frame, key, frame_data['text']['script'], frame_data['emotion']['text']['emotion']])\n",
    "\n",
    "\n",
    "    with open(OUT_PATH + csv_name, 'w') as csvfile:\n",
    "        writer = csv.writer(csvfile, delimiter=str(','), lineterminator='\\n')\n",
    "        writer.writerow(['frame', 'frame_key', 'script', 'emotion'])\n",
    "\n",
    "        for i, row in enumerate(csv_data):\n",
    "            try:\n",
    "                writer.writerow(row)\n",
    "            except:\n",
    "                print(\"Exception at row {}!\".format(i))\n"
   ]
  },
  {
   "cell_type": "markdown",
   "metadata": {
    "id": "BNWlAo2S4weP"
   },
   "source": [
    "### csv 중복 제거 및 통합 "
   ]
  },
  {
   "cell_type": "code",
   "execution_count": 6,
   "metadata": {
    "executionInfo": {
     "elapsed": 428,
     "status": "ok",
     "timestamp": 1642923850683,
     "user": {
      "displayName": "유승태",
      "photoUrl": "https://lh3.googleusercontent.com/a/default-user=s64",
      "userId": "01030021726785625805"
     },
     "user_tz": -540
    },
    "id": "JeqIAaGE5AZf"
   },
   "outputs": [],
   "source": [
    "IN_PATH = '/content/drive/MyDrive/CUAI_winter/frame_csv/'\n",
    "OUT_PATH = '/content/drive/MyDrive/CUAI_winter/'"
   ]
  },
  {
   "cell_type": "code",
   "execution_count": 8,
   "metadata": {
    "executionInfo": {
     "elapsed": 826,
     "status": "ok",
     "timestamp": 1642923858599,
     "user": {
      "displayName": "유승태",
      "photoUrl": "https://lh3.googleusercontent.com/a/default-user=s64",
      "userId": "01030021726785625805"
     },
     "user_tz": -540
    },
    "id": "qs8Fq9AAtmK5"
   },
   "outputs": [],
   "source": [
    "csv_list = sorted(glob.glob(IN_PATH+'*.csv'))"
   ]
  },
  {
   "cell_type": "code",
   "execution_count": 16,
   "metadata": {
    "colab": {
     "base_uri": "https://localhost:8080/",
     "height": 48,
     "referenced_widgets": [
      "76573f3035d646d6930c9ead4b5f18e6",
      "b75e7873353b4efa803cc749d1112737",
      "af4ea03297f84c669146ac3563cfb683",
      "acba25a822f745de8c16dadbe6eecbde",
      "e19b6977ee804277b66fdf7ec1d98810",
      "d28f2854f5114222b5c8f93d09ebf91a",
      "7348e1463089448bae97924095f79cfe",
      "db3704551d4543b1927c1fcb4645f432",
      "808f955556dd4353b4cdc214771e5ffc",
      "a2d057c094814564b8a4065072de350a",
      "4f9a12c60f414e5c975088f62beab7d9"
     ]
    },
    "executionInfo": {
     "elapsed": 1528662,
     "status": "ok",
     "timestamp": 1642926039289,
     "user": {
      "displayName": "유승태",
      "photoUrl": "https://lh3.googleusercontent.com/a/default-user=s64",
      "userId": "01030021726785625805"
     },
     "user_tz": -540
    },
    "id": "U9ral-465H2Q",
    "outputId": "d27e4dc1-642c-48da-91ea-c6586823a89f"
   },
   "outputs": [
    {
     "data": {
      "application/vnd.jupyter.widget-view+json": {
       "model_id": "76573f3035d646d6930c9ead4b5f18e6",
       "version_major": 2,
       "version_minor": 0
      },
      "text/plain": [
       "  0%|          | 0/3199 [00:00<?, ?it/s]"
      ]
     },
     "metadata": {},
     "output_type": "display_data"
    }
   ],
   "source": [
    "total_data = pd.DataFrame(columns=['script', 'emotion'])\n",
    "\n",
    "for csv_name in tqdm(csv_list): # csv 순회\n",
    "    data = pd.read_csv(csv_name)\n",
    "    data.drop_duplicates(['script'], keep='first', inplace = True, ignore_index = True)\n",
    "\n",
    "    data = data[['script', 'emotion']]\n",
    "    total_data = pd.concat([total_data, data], ignore_index = True)"
   ]
  },
  {
   "cell_type": "code",
   "execution_count": null,
   "metadata": {
    "colab": {
     "base_uri": "https://localhost:8080/",
     "height": 206
    },
    "executionInfo": {
     "elapsed": 14,
     "status": "ok",
     "timestamp": 1642926039290,
     "user": {
      "displayName": "유승태",
      "photoUrl": "https://lh3.googleusercontent.com/a/default-user=s64",
      "userId": "01030021726785625805"
     },
     "user_tz": -540
    },
    "id": "iOpQnfSE6ujZ",
    "outputId": "d7ad778f-a323-44c1-931f-3984a642e1c7"
   },
   "outputs": [],
   "source": [
    "total_data.head()"
   ]
  },
  {
   "cell_type": "code",
   "execution_count": null,
   "metadata": {
    "colab": {
     "base_uri": "https://localhost:8080/"
    },
    "executionInfo": {
     "elapsed": 826,
     "status": "ok",
     "timestamp": 1642928643107,
     "user": {
      "displayName": "유승태",
      "photoUrl": "https://lh3.googleusercontent.com/a/default-user=s64",
      "userId": "01030021726785625805"
     },
     "user_tz": -540
    },
    "id": "Tkg3i-4v7pW-",
    "outputId": "a82d651d-4a13-4c02-ba0a-a016dd22d86c"
   },
   "outputs": [],
   "source": [
    "total_data.shape"
   ]
  },
  {
   "cell_type": "code",
   "execution_count": null,
   "metadata": {
    "colab": {
     "base_uri": "https://localhost:8080/"
    },
    "executionInfo": {
     "elapsed": 385,
     "status": "ok",
     "timestamp": 1642928657759,
     "user": {
      "displayName": "유승태",
      "photoUrl": "https://lh3.googleusercontent.com/a/default-user=s64",
      "userId": "01030021726785625805"
     },
     "user_tz": -540
    },
    "id": "XQXYAC6TLZUq",
    "outputId": "9b4ae9a1-9a2e-4610-b159-7c693b91fe5b"
   },
   "outputs": [],
   "source": [
    "total_data.info()"
   ]
  },
  {
   "cell_type": "code",
   "execution_count": 20,
   "metadata": {
    "executionInfo": {
     "elapsed": 395,
     "status": "ok",
     "timestamp": 1642928774601,
     "user": {
      "displayName": "유승태",
      "photoUrl": "https://lh3.googleusercontent.com/a/default-user=s64",
      "userId": "01030021726785625805"
     },
     "user_tz": -540
    },
    "id": "ShcoAOjlLc_M"
   },
   "outputs": [],
   "source": [
    "total_data.to_feather(OUT_PATH + 'clip.ftr')"
   ]
  },
  {
   "cell_type": "code",
   "execution_count": null,
   "metadata": {
    "id": "PlO6pumpL5pM"
   },
   "outputs": [],
   "source": []
  }
 ],
 "metadata": {
  "accelerator": "GPU",
  "colab": {
   "collapsed_sections": [],
   "machine_shape": "hm",
   "name": "FrameToCSV.ipynb",
   "provenance": []
  },
  "kernelspec": {
   "display_name": "Python 3",
   "language": "python",
   "name": "python3"
  },
  "language_info": {
   "codemirror_mode": {
    "name": "ipython",
    "version": 3
   },
   "file_extension": ".py",
   "mimetype": "text/x-python",
   "name": "python",
   "nbconvert_exporter": "python",
   "pygments_lexer": "ipython3",
   "version": "3.8.5"
  },
  "widgets": {
   "application/vnd.jupyter.widget-state+json": {
    "194d66f91f3849bd80e6a1ea24b101cf": {
     "model_module": "@jupyter-widgets/base",
     "model_module_version": "1.2.0",
     "model_name": "LayoutModel",
     "state": {
      "_model_module": "@jupyter-widgets/base",
      "_model_module_version": "1.2.0",
      "_model_name": "LayoutModel",
      "_view_count": null,
      "_view_module": "@jupyter-widgets/base",
      "_view_module_version": "1.2.0",
      "_view_name": "LayoutView",
      "align_content": null,
      "align_items": null,
      "align_self": null,
      "border": null,
      "bottom": null,
      "display": null,
      "flex": null,
      "flex_flow": null,
      "grid_area": null,
      "grid_auto_columns": null,
      "grid_auto_flow": null,
      "grid_auto_rows": null,
      "grid_column": null,
      "grid_gap": null,
      "grid_row": null,
      "grid_template_areas": null,
      "grid_template_columns": null,
      "grid_template_rows": null,
      "height": null,
      "justify_content": null,
      "justify_items": null,
      "left": null,
      "margin": null,
      "max_height": null,
      "max_width": null,
      "min_height": null,
      "min_width": null,
      "object_fit": null,
      "object_position": null,
      "order": null,
      "overflow": null,
      "overflow_x": null,
      "overflow_y": null,
      "padding": null,
      "right": null,
      "top": null,
      "visibility": null,
      "width": null
     }
    },
    "291c1bb4bb1f49ab9e093e8d20ac857f": {
     "model_module": "@jupyter-widgets/controls",
     "model_module_version": "1.5.0",
     "model_name": "FloatProgressModel",
     "state": {
      "_dom_classes": [],
      "_model_module": "@jupyter-widgets/controls",
      "_model_module_version": "1.5.0",
      "_model_name": "FloatProgressModel",
      "_view_count": null,
      "_view_module": "@jupyter-widgets/controls",
      "_view_module_version": "1.5.0",
      "_view_name": "ProgressView",
      "bar_style": "success",
      "description": "",
      "description_tooltip": null,
      "layout": "IPY_MODEL_97e4c92cf9324067a9e8716638a9f462",
      "max": 3199,
      "min": 0,
      "orientation": "horizontal",
      "style": "IPY_MODEL_65bf97176d004fcf8c8f65db81c89e4a",
      "value": 3199
     }
    },
    "2ffbc8d4b04f46f79936fe52d26687d5": {
     "model_module": "@jupyter-widgets/controls",
     "model_module_version": "1.5.0",
     "model_name": "DescriptionStyleModel",
     "state": {
      "_model_module": "@jupyter-widgets/controls",
      "_model_module_version": "1.5.0",
      "_model_name": "DescriptionStyleModel",
      "_view_count": null,
      "_view_module": "@jupyter-widgets/base",
      "_view_module_version": "1.2.0",
      "_view_name": "StyleView",
      "description_width": ""
     }
    },
    "47b66c56ed504c90a8a5bfe3804356a7": {
     "model_module": "@jupyter-widgets/controls",
     "model_module_version": "1.5.0",
     "model_name": "DescriptionStyleModel",
     "state": {
      "_model_module": "@jupyter-widgets/controls",
      "_model_module_version": "1.5.0",
      "_model_name": "DescriptionStyleModel",
      "_view_count": null,
      "_view_module": "@jupyter-widgets/base",
      "_view_module_version": "1.2.0",
      "_view_name": "StyleView",
      "description_width": ""
     }
    },
    "4ac8801aa3334428ac4b3c15538d7fce": {
     "model_module": "@jupyter-widgets/controls",
     "model_module_version": "1.5.0",
     "model_name": "HTMLModel",
     "state": {
      "_dom_classes": [],
      "_model_module": "@jupyter-widgets/controls",
      "_model_module_version": "1.5.0",
      "_model_name": "HTMLModel",
      "_view_count": null,
      "_view_module": "@jupyter-widgets/controls",
      "_view_module_version": "1.5.0",
      "_view_name": "HTMLView",
      "description": "",
      "description_tooltip": null,
      "layout": "IPY_MODEL_5503b674039c4070911bf6eeb780b5ce",
      "placeholder": "​",
      "style": "IPY_MODEL_2ffbc8d4b04f46f79936fe52d26687d5",
      "value": " 3199/3199 [12:26&lt;00:00,  9.08it/s]"
     }
    },
    "4f9a12c60f414e5c975088f62beab7d9": {
     "model_module": "@jupyter-widgets/base",
     "model_module_version": "1.2.0",
     "model_name": "LayoutModel",
     "state": {
      "_model_module": "@jupyter-widgets/base",
      "_model_module_version": "1.2.0",
      "_model_name": "LayoutModel",
      "_view_count": null,
      "_view_module": "@jupyter-widgets/base",
      "_view_module_version": "1.2.0",
      "_view_name": "LayoutView",
      "align_content": null,
      "align_items": null,
      "align_self": null,
      "border": null,
      "bottom": null,
      "display": null,
      "flex": null,
      "flex_flow": null,
      "grid_area": null,
      "grid_auto_columns": null,
      "grid_auto_flow": null,
      "grid_auto_rows": null,
      "grid_column": null,
      "grid_gap": null,
      "grid_row": null,
      "grid_template_areas": null,
      "grid_template_columns": null,
      "grid_template_rows": null,
      "height": null,
      "justify_content": null,
      "justify_items": null,
      "left": null,
      "margin": null,
      "max_height": null,
      "max_width": null,
      "min_height": null,
      "min_width": null,
      "object_fit": null,
      "object_position": null,
      "order": null,
      "overflow": null,
      "overflow_x": null,
      "overflow_y": null,
      "padding": null,
      "right": null,
      "top": null,
      "visibility": null,
      "width": null
     }
    },
    "5503b674039c4070911bf6eeb780b5ce": {
     "model_module": "@jupyter-widgets/base",
     "model_module_version": "1.2.0",
     "model_name": "LayoutModel",
     "state": {
      "_model_module": "@jupyter-widgets/base",
      "_model_module_version": "1.2.0",
      "_model_name": "LayoutModel",
      "_view_count": null,
      "_view_module": "@jupyter-widgets/base",
      "_view_module_version": "1.2.0",
      "_view_name": "LayoutView",
      "align_content": null,
      "align_items": null,
      "align_self": null,
      "border": null,
      "bottom": null,
      "display": null,
      "flex": null,
      "flex_flow": null,
      "grid_area": null,
      "grid_auto_columns": null,
      "grid_auto_flow": null,
      "grid_auto_rows": null,
      "grid_column": null,
      "grid_gap": null,
      "grid_row": null,
      "grid_template_areas": null,
      "grid_template_columns": null,
      "grid_template_rows": null,
      "height": null,
      "justify_content": null,
      "justify_items": null,
      "left": null,
      "margin": null,
      "max_height": null,
      "max_width": null,
      "min_height": null,
      "min_width": null,
      "object_fit": null,
      "object_position": null,
      "order": null,
      "overflow": null,
      "overflow_x": null,
      "overflow_y": null,
      "padding": null,
      "right": null,
      "top": null,
      "visibility": null,
      "width": null
     }
    },
    "65bf97176d004fcf8c8f65db81c89e4a": {
     "model_module": "@jupyter-widgets/controls",
     "model_module_version": "1.5.0",
     "model_name": "ProgressStyleModel",
     "state": {
      "_model_module": "@jupyter-widgets/controls",
      "_model_module_version": "1.5.0",
      "_model_name": "ProgressStyleModel",
      "_view_count": null,
      "_view_module": "@jupyter-widgets/base",
      "_view_module_version": "1.2.0",
      "_view_name": "StyleView",
      "bar_color": null,
      "description_width": ""
     }
    },
    "7348e1463089448bae97924095f79cfe": {
     "model_module": "@jupyter-widgets/base",
     "model_module_version": "1.2.0",
     "model_name": "LayoutModel",
     "state": {
      "_model_module": "@jupyter-widgets/base",
      "_model_module_version": "1.2.0",
      "_model_name": "LayoutModel",
      "_view_count": null,
      "_view_module": "@jupyter-widgets/base",
      "_view_module_version": "1.2.0",
      "_view_name": "LayoutView",
      "align_content": null,
      "align_items": null,
      "align_self": null,
      "border": null,
      "bottom": null,
      "display": null,
      "flex": null,
      "flex_flow": null,
      "grid_area": null,
      "grid_auto_columns": null,
      "grid_auto_flow": null,
      "grid_auto_rows": null,
      "grid_column": null,
      "grid_gap": null,
      "grid_row": null,
      "grid_template_areas": null,
      "grid_template_columns": null,
      "grid_template_rows": null,
      "height": null,
      "justify_content": null,
      "justify_items": null,
      "left": null,
      "margin": null,
      "max_height": null,
      "max_width": null,
      "min_height": null,
      "min_width": null,
      "object_fit": null,
      "object_position": null,
      "order": null,
      "overflow": null,
      "overflow_x": null,
      "overflow_y": null,
      "padding": null,
      "right": null,
      "top": null,
      "visibility": null,
      "width": null
     }
    },
    "76573f3035d646d6930c9ead4b5f18e6": {
     "model_module": "@jupyter-widgets/controls",
     "model_module_version": "1.5.0",
     "model_name": "HBoxModel",
     "state": {
      "_dom_classes": [],
      "_model_module": "@jupyter-widgets/controls",
      "_model_module_version": "1.5.0",
      "_model_name": "HBoxModel",
      "_view_count": null,
      "_view_module": "@jupyter-widgets/controls",
      "_view_module_version": "1.5.0",
      "_view_name": "HBoxView",
      "box_style": "",
      "children": [
       "IPY_MODEL_af4ea03297f84c669146ac3563cfb683",
       "IPY_MODEL_acba25a822f745de8c16dadbe6eecbde",
       "IPY_MODEL_e19b6977ee804277b66fdf7ec1d98810"
      ],
      "layout": "IPY_MODEL_b75e7873353b4efa803cc749d1112737"
     }
    },
    "77e217e2af5a4acc9ff13dd880e4248e": {
     "model_module": "@jupyter-widgets/controls",
     "model_module_version": "1.5.0",
     "model_name": "HTMLModel",
     "state": {
      "_dom_classes": [],
      "_model_module": "@jupyter-widgets/controls",
      "_model_module_version": "1.5.0",
      "_model_name": "HTMLModel",
      "_view_count": null,
      "_view_module": "@jupyter-widgets/controls",
      "_view_module_version": "1.5.0",
      "_view_name": "HTMLView",
      "description": "",
      "description_tooltip": null,
      "layout": "IPY_MODEL_194d66f91f3849bd80e6a1ea24b101cf",
      "placeholder": "​",
      "style": "IPY_MODEL_47b66c56ed504c90a8a5bfe3804356a7",
      "value": "100%"
     }
    },
    "808f955556dd4353b4cdc214771e5ffc": {
     "model_module": "@jupyter-widgets/base",
     "model_module_version": "1.2.0",
     "model_name": "LayoutModel",
     "state": {
      "_model_module": "@jupyter-widgets/base",
      "_model_module_version": "1.2.0",
      "_model_name": "LayoutModel",
      "_view_count": null,
      "_view_module": "@jupyter-widgets/base",
      "_view_module_version": "1.2.0",
      "_view_name": "LayoutView",
      "align_content": null,
      "align_items": null,
      "align_self": null,
      "border": null,
      "bottom": null,
      "display": null,
      "flex": null,
      "flex_flow": null,
      "grid_area": null,
      "grid_auto_columns": null,
      "grid_auto_flow": null,
      "grid_auto_rows": null,
      "grid_column": null,
      "grid_gap": null,
      "grid_row": null,
      "grid_template_areas": null,
      "grid_template_columns": null,
      "grid_template_rows": null,
      "height": null,
      "justify_content": null,
      "justify_items": null,
      "left": null,
      "margin": null,
      "max_height": null,
      "max_width": null,
      "min_height": null,
      "min_width": null,
      "object_fit": null,
      "object_position": null,
      "order": null,
      "overflow": null,
      "overflow_x": null,
      "overflow_y": null,
      "padding": null,
      "right": null,
      "top": null,
      "visibility": null,
      "width": null
     }
    },
    "97e4c92cf9324067a9e8716638a9f462": {
     "model_module": "@jupyter-widgets/base",
     "model_module_version": "1.2.0",
     "model_name": "LayoutModel",
     "state": {
      "_model_module": "@jupyter-widgets/base",
      "_model_module_version": "1.2.0",
      "_model_name": "LayoutModel",
      "_view_count": null,
      "_view_module": "@jupyter-widgets/base",
      "_view_module_version": "1.2.0",
      "_view_name": "LayoutView",
      "align_content": null,
      "align_items": null,
      "align_self": null,
      "border": null,
      "bottom": null,
      "display": null,
      "flex": null,
      "flex_flow": null,
      "grid_area": null,
      "grid_auto_columns": null,
      "grid_auto_flow": null,
      "grid_auto_rows": null,
      "grid_column": null,
      "grid_gap": null,
      "grid_row": null,
      "grid_template_areas": null,
      "grid_template_columns": null,
      "grid_template_rows": null,
      "height": null,
      "justify_content": null,
      "justify_items": null,
      "left": null,
      "margin": null,
      "max_height": null,
      "max_width": null,
      "min_height": null,
      "min_width": null,
      "object_fit": null,
      "object_position": null,
      "order": null,
      "overflow": null,
      "overflow_x": null,
      "overflow_y": null,
      "padding": null,
      "right": null,
      "top": null,
      "visibility": null,
      "width": null
     }
    },
    "a2d057c094814564b8a4065072de350a": {
     "model_module": "@jupyter-widgets/controls",
     "model_module_version": "1.5.0",
     "model_name": "DescriptionStyleModel",
     "state": {
      "_model_module": "@jupyter-widgets/controls",
      "_model_module_version": "1.5.0",
      "_model_name": "DescriptionStyleModel",
      "_view_count": null,
      "_view_module": "@jupyter-widgets/base",
      "_view_module_version": "1.2.0",
      "_view_name": "StyleView",
      "description_width": ""
     }
    },
    "acba25a822f745de8c16dadbe6eecbde": {
     "model_module": "@jupyter-widgets/controls",
     "model_module_version": "1.5.0",
     "model_name": "FloatProgressModel",
     "state": {
      "_dom_classes": [],
      "_model_module": "@jupyter-widgets/controls",
      "_model_module_version": "1.5.0",
      "_model_name": "FloatProgressModel",
      "_view_count": null,
      "_view_module": "@jupyter-widgets/controls",
      "_view_module_version": "1.5.0",
      "_view_name": "ProgressView",
      "bar_style": "success",
      "description": "",
      "description_tooltip": null,
      "layout": "IPY_MODEL_808f955556dd4353b4cdc214771e5ffc",
      "max": 3199,
      "min": 0,
      "orientation": "horizontal",
      "style": "IPY_MODEL_db3704551d4543b1927c1fcb4645f432",
      "value": 3199
     }
    },
    "af4ea03297f84c669146ac3563cfb683": {
     "model_module": "@jupyter-widgets/controls",
     "model_module_version": "1.5.0",
     "model_name": "HTMLModel",
     "state": {
      "_dom_classes": [],
      "_model_module": "@jupyter-widgets/controls",
      "_model_module_version": "1.5.0",
      "_model_name": "HTMLModel",
      "_view_count": null,
      "_view_module": "@jupyter-widgets/controls",
      "_view_module_version": "1.5.0",
      "_view_name": "HTMLView",
      "description": "",
      "description_tooltip": null,
      "layout": "IPY_MODEL_7348e1463089448bae97924095f79cfe",
      "placeholder": "​",
      "style": "IPY_MODEL_d28f2854f5114222b5c8f93d09ebf91a",
      "value": "100%"
     }
    },
    "b75e7873353b4efa803cc749d1112737": {
     "model_module": "@jupyter-widgets/base",
     "model_module_version": "1.2.0",
     "model_name": "LayoutModel",
     "state": {
      "_model_module": "@jupyter-widgets/base",
      "_model_module_version": "1.2.0",
      "_model_name": "LayoutModel",
      "_view_count": null,
      "_view_module": "@jupyter-widgets/base",
      "_view_module_version": "1.2.0",
      "_view_name": "LayoutView",
      "align_content": null,
      "align_items": null,
      "align_self": null,
      "border": null,
      "bottom": null,
      "display": null,
      "flex": null,
      "flex_flow": null,
      "grid_area": null,
      "grid_auto_columns": null,
      "grid_auto_flow": null,
      "grid_auto_rows": null,
      "grid_column": null,
      "grid_gap": null,
      "grid_row": null,
      "grid_template_areas": null,
      "grid_template_columns": null,
      "grid_template_rows": null,
      "height": null,
      "justify_content": null,
      "justify_items": null,
      "left": null,
      "margin": null,
      "max_height": null,
      "max_width": null,
      "min_height": null,
      "min_width": null,
      "object_fit": null,
      "object_position": null,
      "order": null,
      "overflow": null,
      "overflow_x": null,
      "overflow_y": null,
      "padding": null,
      "right": null,
      "top": null,
      "visibility": null,
      "width": null
     }
    },
    "c4de19fc9cef40db83374d3cc32ed242": {
     "model_module": "@jupyter-widgets/controls",
     "model_module_version": "1.5.0",
     "model_name": "HBoxModel",
     "state": {
      "_dom_classes": [],
      "_model_module": "@jupyter-widgets/controls",
      "_model_module_version": "1.5.0",
      "_model_name": "HBoxModel",
      "_view_count": null,
      "_view_module": "@jupyter-widgets/controls",
      "_view_module_version": "1.5.0",
      "_view_name": "HBoxView",
      "box_style": "",
      "children": [
       "IPY_MODEL_77e217e2af5a4acc9ff13dd880e4248e",
       "IPY_MODEL_291c1bb4bb1f49ab9e093e8d20ac857f",
       "IPY_MODEL_4ac8801aa3334428ac4b3c15538d7fce"
      ],
      "layout": "IPY_MODEL_e660da27baa54c319d1fa66f6a5eb153"
     }
    },
    "d28f2854f5114222b5c8f93d09ebf91a": {
     "model_module": "@jupyter-widgets/controls",
     "model_module_version": "1.5.0",
     "model_name": "DescriptionStyleModel",
     "state": {
      "_model_module": "@jupyter-widgets/controls",
      "_model_module_version": "1.5.0",
      "_model_name": "DescriptionStyleModel",
      "_view_count": null,
      "_view_module": "@jupyter-widgets/base",
      "_view_module_version": "1.2.0",
      "_view_name": "StyleView",
      "description_width": ""
     }
    },
    "db3704551d4543b1927c1fcb4645f432": {
     "model_module": "@jupyter-widgets/controls",
     "model_module_version": "1.5.0",
     "model_name": "ProgressStyleModel",
     "state": {
      "_model_module": "@jupyter-widgets/controls",
      "_model_module_version": "1.5.0",
      "_model_name": "ProgressStyleModel",
      "_view_count": null,
      "_view_module": "@jupyter-widgets/base",
      "_view_module_version": "1.2.0",
      "_view_name": "StyleView",
      "bar_color": null,
      "description_width": ""
     }
    },
    "e19b6977ee804277b66fdf7ec1d98810": {
     "model_module": "@jupyter-widgets/controls",
     "model_module_version": "1.5.0",
     "model_name": "HTMLModel",
     "state": {
      "_dom_classes": [],
      "_model_module": "@jupyter-widgets/controls",
      "_model_module_version": "1.5.0",
      "_model_name": "HTMLModel",
      "_view_count": null,
      "_view_module": "@jupyter-widgets/controls",
      "_view_module_version": "1.5.0",
      "_view_name": "HTMLView",
      "description": "",
      "description_tooltip": null,
      "layout": "IPY_MODEL_4f9a12c60f414e5c975088f62beab7d9",
      "placeholder": "​",
      "style": "IPY_MODEL_a2d057c094814564b8a4065072de350a",
      "value": " 3199/3199 [25:27&lt;00:00,  2.10it/s]"
     }
    },
    "e660da27baa54c319d1fa66f6a5eb153": {
     "model_module": "@jupyter-widgets/base",
     "model_module_version": "1.2.0",
     "model_name": "LayoutModel",
     "state": {
      "_model_module": "@jupyter-widgets/base",
      "_model_module_version": "1.2.0",
      "_model_name": "LayoutModel",
      "_view_count": null,
      "_view_module": "@jupyter-widgets/base",
      "_view_module_version": "1.2.0",
      "_view_name": "LayoutView",
      "align_content": null,
      "align_items": null,
      "align_self": null,
      "border": null,
      "bottom": null,
      "display": null,
      "flex": null,
      "flex_flow": null,
      "grid_area": null,
      "grid_auto_columns": null,
      "grid_auto_flow": null,
      "grid_auto_rows": null,
      "grid_column": null,
      "grid_gap": null,
      "grid_row": null,
      "grid_template_areas": null,
      "grid_template_columns": null,
      "grid_template_rows": null,
      "height": null,
      "justify_content": null,
      "justify_items": null,
      "left": null,
      "margin": null,
      "max_height": null,
      "max_width": null,
      "min_height": null,
      "min_width": null,
      "object_fit": null,
      "object_position": null,
      "order": null,
      "overflow": null,
      "overflow_x": null,
      "overflow_y": null,
      "padding": null,
      "right": null,
      "top": null,
      "visibility": null,
      "width": null
     }
    }
   }
  }
 },
 "nbformat": 4,
 "nbformat_minor": 1
}
